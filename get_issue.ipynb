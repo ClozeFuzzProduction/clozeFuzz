{
 "cells": [
  {
   "cell_type": "markdown",
   "metadata": {},
   "source": [
    "# Step1: get code from github"
   ]
  },
  {
   "cell_type": "code",
   "execution_count": null,
   "metadata": {},
   "outputs": [],
   "source": [
    "from github import Github\n",
    "from github import Auth\n",
    "import re\n",
    "import tqdm\n",
    "import time\n",
    "import random"
   ]
  },
  {
   "cell_type": "code",
   "execution_count": 2,
   "metadata": {},
   "outputs": [],
   "source": [
    "repo_url=\"rust-lang/rust\"\n",
    "token=\"\"# your github token here"
   ]
  },
  {
   "cell_type": "code",
   "execution_count": null,
   "metadata": {},
   "outputs": [],
   "source": [
    "# get repo\n",
    "def get_repo(repo_url,token):\n",
    "    auth=Auth.Token(token)\n",
    "    g=Github(auth=auth)\n",
    "    repo=g.get_repo(repo_url)\n",
    "    return repo"
   ]
  },
  {
   "cell_type": "code",
   "execution_count": null,
   "metadata": {},
   "outputs": [],
   "source": [
    "# get issue\n",
    "def get_issues(repo_url,token,state):\n",
    "    auth=Auth.Token(token)\n",
    "    g=Github(auth=auth)\n",
    "    repo=g.get_repo(repo_url)\n",
    "    issues=repo.get_issues(state=state)\n",
    "    return issues"
   ]
  },
  {
   "cell_type": "code",
   "execution_count": null,
   "metadata": {},
   "outputs": [],
   "source": [
    "closed_issues=get_issues(repo_url,token,state=\"closed\")"
   ]
  },
  {
   "cell_type": "code",
   "execution_count": null,
   "metadata": {},
   "outputs": [],
   "source": [
    "\n",
    "print(closed_issues.totalCount)"
   ]
  },
  {
   "cell_type": "code",
   "execution_count": null,
   "metadata": {},
   "outputs": [],
   "source": [
    "\n",
    "def get_rust_code_from_issue(issue,need_split=False):\n",
    "    pattern = re.compile(r'```[Rr][Uu][Ss][Tt][\\s\\S]*?```|```[Rr][Ss][\\s\\S]*?```', re.MULTILINE)\n",
    "    \n",
    "    codes_from_issue_body=[]\n",
    "    try:\n",
    "        res=pattern.search(issue.body)\n",
    "    except TypeError:\n",
    "        res=None\n",
    "    if res is not None:\n",
    "        codes_from_issue_body+=[res.group()]\n",
    "    comments=issue.get_comments()\n",
    "    # deal with rate limit\n",
    "    time.sleep(random.uniform(1, 1.5))\n",
    "    codes_from_comments=[]\n",
    "    for comment in comments:\n",
    "        \n",
    "        try:\n",
    "            res=pattern.search(comment.body)\n",
    "        except TypeError:\n",
    "            res=None\n",
    "        if res is not None:\n",
    "            codes_from_comments+=[res.group()]\n",
    "    if need_split:\n",
    "        return codes_from_issue_body,codes_from_comments\n",
    "    else:\n",
    "        return codes_from_issue_body+codes_from_comments\n"
   ]
  },
  {
   "cell_type": "code",
   "execution_count": null,
   "metadata": {},
   "outputs": [],
   "source": [
    "# deel with raw rust code snippets\n",
    "def deel_raw_rust_code(code):\n",
    "    code_lines=code.splitlines()\n",
    "    if len(code_lines)<=2:\n",
    "        return \"\"\n",
    "    else:\n",
    "        return \"\\n\".join(code_lines[1:-1])\n",
    "# write code to .rs file in rust_code folder\n",
    "def save_rust_code_to_file(code,issue_num,cnt,folder_path):\n",
    "    file_path=folder_path+\"/\"+str(issue_num)+\"_\"+str(cnt)+\".rs\"\n",
    "    with open(file_path,\"w\") as f:\n",
    "        f.write(code)"
   ]
  },
  {
   "cell_type": "code",
   "execution_count": null,
   "metadata": {},
   "outputs": [],
   "source": [
    "folder_path='./database/issue_code'\n",
    "for close_issue in closed_issues:\n",
    "    issue_num=close_issue.number\n",
    "    if(issue_num>59094):\n",
    "        continue\n",
    "    codes=get_rust_code_from_issue(close_issue)\n",
    "    \n",
    "    cnt=0\n",
    "    for code in codes:\n",
    "        cnt+=1\n",
    "        code=deel_raw_rust_code(code)\n",
    "        save_rust_code_to_file(code,issue_num,cnt,folder_path)\n",
    "\n",
    "    "
   ]
  },
  {
   "cell_type": "code",
   "execution_count": null,
   "metadata": {},
   "outputs": [],
   "source": [
    "repo=get_repo(repo_url,token)\n",
    "issue=repo.get_issue(number=55094)\n",
    "code1,code2=get_rust_code_from_issue(issue,True)\n"
   ]
  },
  {
   "cell_type": "code",
   "execution_count": null,
   "metadata": {},
   "outputs": [],
   "source": [
    "len(code2)"
   ]
  },
  {
   "cell_type": "code",
   "execution_count": null,
   "metadata": {},
   "outputs": [],
   "source": [
    "code=deel_raw_rust_code(code2[0])\n",
    "print(code)"
   ]
  },
  {
   "cell_type": "code",
   "execution_count": null,
   "metadata": {},
   "outputs": [],
   "source": []
  },
  {
   "cell_type": "code",
   "execution_count": null,
   "metadata": {},
   "outputs": [],
   "source": []
  },
  {
   "cell_type": "code",
   "execution_count": null,
   "metadata": {},
   "outputs": [],
   "source": [
    "codes=code1+code2\n",
    "for code in codes:\n",
    "    code=deel_raw_rust_code(code)\n",
    "    "
   ]
  },
  {
   "cell_type": "code",
   "execution_count": null,
   "metadata": {},
   "outputs": [],
   "source": [
    "import requests\n",
    "\n",
    "url = 'https://api.github.com/rate_limit'\n",
    "headers = {'Authorization': token}\n",
    "response = requests.get(url, headers=headers)\n",
    "\n",
    "if response.status_code == 200:\n",
    "    data = response.json()\n",
    "    limit = data['rate']['limit']  \n",
    "    remaining = data['rate']['remaining']  \n",
    "    reset_time = data['rate']['reset']  \n",
    "    "
   ]
  },
  {
   "cell_type": "code",
   "execution_count": null,
   "metadata": {},
   "outputs": [],
   "source": [
    "# deal code: delete none or duplicate code\n",
    "def deal_rust_files(issue_num):\n",
    "    pass"
   ]
  },
  {
   "cell_type": "code",
   "execution_count": null,
   "metadata": {},
   "outputs": [],
   "source": [
    "\n",
    "import hashlib\n",
    "import os\n",
    "\n",
    "def get_file_content(file_path):\n",
    "    with open(file_path, 'r') as file:\n",
    "        content = file.read()\n",
    "    return content\n",
    "\n",
    "def get_file_hash(content):\n",
    "    sha1_hash = hashlib.sha1(content.encode()).hexdigest()\n",
    "    return sha1_hash\n",
    "\n",
    "def find_duplicate_files(directory):\n",
    "    file_hashes = {}\n",
    "    duplicate_files = []\n",
    "\n",
    "    for filename in os.listdir(directory):\n",
    "        if filename.endswith('.rs'):\n",
    "            file_path = os.path.join(directory, filename)\n",
    "            content = get_file_content(file_path)\n",
    "            file_hash = get_file_hash(content)\n",
    "\n",
    "            if file_hash in file_hashes:\n",
    "                duplicate_files.append(file_path)\n",
    "            else:\n",
    "                file_hashes[file_hash] = file_path\n",
    "\n",
    "    return duplicate_files\n",
    "\n",
    "\n",
    "directory = '/path/to/directory'\n",
    "\n",
    "duplicate_files = find_duplicate_files(directory)\n",
    "\n",
    "if duplicate_files:\n",
    "    print(\"repeat files:\")\n",
    "    for file in duplicate_files:\n",
    "        print(file)\n",
    "else:\n",
    "    print(\"ok\")"
   ]
  }
 ],
 "metadata": {
  "kernelspec": {
   "display_name": "rust",
   "language": "python",
   "name": "python3"
  },
  "language_info": {
   "codemirror_mode": {
    "name": "ipython",
    "version": 3
   },
   "file_extension": ".py",
   "mimetype": "text/x-python",
   "name": "python",
   "nbconvert_exporter": "python",
   "pygments_lexer": "ipython3",
   "version": "3.8.17"
  },
  "orig_nbformat": 4
 },
 "nbformat": 4,
 "nbformat_minor": 2
}
